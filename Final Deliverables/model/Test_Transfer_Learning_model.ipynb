{
  "nbformat": 4,
  "nbformat_minor": 0,
  "metadata": {
    "colab": {
      "provenance": []
    },
    "kernelspec": {
      "name": "python3",
      "display_name": "Python 3"
    },
    "language_info": {
      "name": "python"
    }
  },
  "cells": [
    {
      "cell_type": "code",
      "execution_count": 1,
      "metadata": {
        "id": "BDR0tgBj0LGy"
      },
      "outputs": [],
      "source": [
        "#import load_model class for loading h5 file\n",
        "from tensorflow.keras.models import load_model\n",
        "#import image class to process the images\n",
        "from tensorflow.keras.preprocessing import image\n",
        "from tensorflow.keras.applications.inception_v3 import preprocess_input\n",
        "import numpy as np"
      ]
    },
    {
      "cell_type": "code",
      "source": [
        "#load saved model file\n",
        "model=load_model('Updated-Xception-diabetic-retinopathy.h5')"
      ],
      "metadata": {
        "id": "ZJknBJAQ1FJv"
      },
      "execution_count": null,
      "outputs": []
    },
    {
      "cell_type": "code",
      "source": [
        "#load one random image from local system\n",
        "img=image.load_img(r'PDR.jpg',target_size=(299,299))"
      ],
      "metadata": {
        "id": "XtVX4x5b1LiG"
      },
      "execution_count": null,
      "outputs": []
    },
    {
      "cell_type": "code",
      "source": [
        "#convert image to array format\n",
        "x=image.img_to_array(img)"
      ],
      "metadata": {
        "id": "LCkW1SYL1PU_"
      },
      "execution_count": null,
      "outputs": []
    },
    {
      "cell_type": "code",
      "source": [
        "import matplotlib.pyplot as plt"
      ],
      "metadata": {
        "id": "pO-Wkr381Wyx"
      },
      "execution_count": null,
      "outputs": []
    },
    {
      "cell_type": "code",
      "source": [
        "x.shape"
      ],
      "metadata": {
        "id": "ECtMtQ7Y1l1L"
      },
      "execution_count": null,
      "outputs": []
    },
    {
      "cell_type": "markdown",
      "source": [
        "(299,299,3)"
      ],
      "metadata": {
        "id": "sb_CDERj1nya"
      }
    },
    {
      "cell_type": "code",
      "source": [
        "import numpy as np\n",
        "x=np.expand_dims(x,axis=0)\n",
        "img_data=preprocess_input(x)\n",
        "img_data.shape"
      ],
      "metadata": {
        "id": "PxABpwbN1t_e"
      },
      "execution_count": null,
      "outputs": []
    },
    {
      "cell_type": "markdown",
      "source": [
        "(1, 299, 299, 3)"
      ],
      "metadata": {
        "id": "0r2Vo-722fM7"
      }
    },
    {
      "cell_type": "code",
      "source": [
        "model.predict(img_data)"
      ],
      "metadata": {
        "id": "YwEL48Pr1ub7"
      },
      "execution_count": null,
      "outputs": []
    },
    {
      "cell_type": "markdown",
      "source": [
        "1/1 [==============================] - 2s 2s/step\n",
        "array([[1.40166845e-11, 8.72857253e-09, 1.59445044e-08, 3.99780248e-07,\n",
        "        9.99999523e-01]], dtype=float32)"
      ],
      "metadata": {
        "id": "n65Phq8424rj"
      }
    },
    {
      "cell_type": "code",
      "source": [
        "output=np.argmax(model.predict(img_data), axis=1)"
      ],
      "metadata": {
        "id": "WlgwzT-F3E1F"
      },
      "execution_count": null,
      "outputs": []
    },
    {
      "cell_type": "markdown",
      "source": [
        "1/1 [==============================] - 0s 392ms/step\n"
      ],
      "metadata": {
        "id": "k8Unc6XJ3Q_s"
      }
    },
    {
      "cell_type": "code",
      "source": [
        "output==0,output==1,output==2,output==3,output==4"
      ],
      "metadata": {
        "id": "M7ZYawaJ3pXP"
      },
      "execution_count": null,
      "outputs": []
    },
    {
      "cell_type": "markdown",
      "source": [
        "(array([False]),\n",
        " array([False]),\n",
        " array([False]),\n",
        " array([False]),\n",
        " array([ True]))"
      ],
      "metadata": {
        "id": "F-DPUPf93zAK"
      }
    },
    {
      "cell_type": "code",
      "source": [
        "index=['No Diabetic Retinopathy', 'Mild DR', 'Moderate DR', 'Severe DR', 'Proliferative DR']\n",
        "result = str(index[output[0]])\n",
        "result"
      ],
      "metadata": {
        "id": "Cc62M28535MD"
      },
      "execution_count": null,
      "outputs": []
    },
    {
      "cell_type": "markdown",
      "source": [
        "'Proliferative DR'\n"
      ],
      "metadata": {
        "id": "s0ZmF3RR37Vs"
      }
    }
  ]
}